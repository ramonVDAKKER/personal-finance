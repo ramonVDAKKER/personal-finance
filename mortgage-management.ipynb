{
  "nbformat": 4,
  "nbformat_minor": 0,
  "metadata": {
    "colab": {
      "name": "Untitled0.ipynb",
      "provenance": [],
      "authorship_tag": "ABX9TyPsQkwiT9R/PULwkwuTdCyg",
      "include_colab_link": true
    },
    "kernelspec": {
      "name": "python3",
      "display_name": "Python 3"
    },
    "language_info": {
      "name": "python"
    }
  },
  "cells": [
    {
      "cell_type": "markdown",
      "metadata": {
        "id": "view-in-github",
        "colab_type": "text"
      },
      "source": [
        "<a href=\"https://colab.research.google.com/github/ramonVDAKKER/personal-finance/blob/main/mortgage-management.ipynb\" target=\"_parent\"><img src=\"https://colab.research.google.com/assets/colab-badge.svg\" alt=\"Open In Colab\"/></a>"
      ]
    },
    {
      "cell_type": "markdown",
      "metadata": {
        "id": "YNNbvmhG62gF"
      },
      "source": [
        "# Mortgage Management"
      ]
    },
    {
      "cell_type": "markdown",
      "metadata": {
        "id": "f3ynotgo67BW"
      },
      "source": [
        "## 0. Imports"
      ]
    },
    {
      "cell_type": "code",
      "metadata": {
        "id": "if9wesOE7ANL"
      },
      "source": [
        "import numpy as np\n",
        "import pandas as pd"
      ],
      "execution_count": null,
      "outputs": []
    },
    {
      "cell_type": "code",
      "metadata": {
        "id": "ts0lFsTr7EeO"
      },
      "source": [
        "!pip install mortgage_calculus # Package that contains functions for cashflows"
      ],
      "execution_count": null,
      "outputs": []
    },
    {
      "cell_type": "code",
      "metadata": {
        "id": "fKLbwFwu6yxl"
      },
      "source": [
        "import mortgage_calculus as mort"
      ],
      "execution_count": null,
      "outputs": []
    },
    {
      "cell_type": "markdown",
      "metadata": {
        "id": "pGXaXhRy-t15"
      },
      "source": [
        "## 1. Analysis of an annuity"
      ]
    },
    {
      "cell_type": "markdown",
      "metadata": {
        "id": "xfJTlxh5-3OX"
      },
      "source": [
        "### 1.1 with fixed interest rate"
      ]
    },
    {
      "cell_type": "code",
      "metadata": {
        "id": "yN3Wk0PQ-tR6"
      },
      "source": [
        "balance = 100000\n",
        "months_to_legal_maturity = 30 * 12\n",
        "interest_rate = 0.02\n",
        "cf_df = mort.cashflows_happy_flow_df(balance, months_to_legal_maturity, interest_rate, \"annuity\")\n",
        "#pd.options.display.max_rows = 361\n",
        "display(cf_df)"
      ],
      "execution_count": null,
      "outputs": []
    },
    {
      "cell_type": "markdown",
      "metadata": {
        "id": "kUieM1PqAAQL"
      },
      "source": [
        "### 1.2 Impact of interest rate reset"
      ]
    },
    {
      "cell_type": "code",
      "metadata": {
        "id": "5b-iHOSrAQ2U"
      },
      "source": [
        "interest_rate_varying = np.zeros(360)\n",
        "interest_rate_varying[:120] = interest_rate * np.ones(120)\n",
        "interest_rate_varying[120:] = 2 * interest_rate # assess impact of increase\n",
        "cf_df = mort.cashflows_happy_flow_df(balance, months_to_legal_maturity, \n",
        "                                     interest_rate_varying, \"annuity\")\n",
        "#pd.options.display.max_rows = 361\n",
        "display(cf_df)"
      ],
      "execution_count": null,
      "outputs": []
    }
  ]
}